{
 "cells": [
  {
   "cell_type": "code",
   "execution_count": 21,
   "metadata": {},
   "outputs": [],
   "source": [
    "#Copying images to training, validation, and test directories\n",
    "\n",
    "import os, shutil\n",
    "\n",
    "original_dataset_dir ='C:/Users/HP/Desktop/MachineLearningPractice/emovo/EMOVO'\n",
    "base_dir = 'C:/Users/HP/Desktop/MachineLearningPractice/emovo/EMOVOdata'\n",
    "os.mkdir(base_dir)\n",
    "\n",
    "anger_dir = os.path.join(base_dir, 'anger')\n",
    "os.mkdir(anger_dir)\n",
    "\n",
    "fear_dir = os.path.join(base_dir, 'fear')\n",
    "os.mkdir(fear_dir)\n",
    "\n",
    "happiness_dir = os.path.join(base_dir, 'happiness')\n",
    "os.mkdir(happiness_dir)\n",
    "\n",
    "neutral_dir = os.path.join(base_dir, 'neutral')\n",
    "os.mkdir(neutral_dir)\n",
    "\n",
    "sadness_dir = os.path.join(base_dir, 'sadness')\n",
    "os.mkdir(sadness_dir)\n",
    "\n",
    "subjects_dirs=[x[0] for x in os.walk(original_dataset_dir)]\n",
    "#print (subjects_dirs[1:])\n",
    "#print(\"-----\")\n",
    "subjects_files=[x[2] for x in os.walk(original_dataset_dir)]\n",
    "#print(subjects_files[1:])\n",
    "\n",
    "for i,file in enumerate(subjects_files[1:]):\n",
    "    #print(file)\n",
    "    #print(\"-------\")\n",
    "    for fname in file:\n",
    "        #print(fname)\n",
    "        if (fname[0:3]=='rab'):\n",
    "            #print(\"rab found\")\n",
    "            src = os.path.join(subjects_dirs[1:][i], fname)\n",
    "            dst= os.path.join(anger_dir, fname)\n",
    "            shutil.copyfile(src, dst)\n",
    "        elif (fname[0:3]=='pau'):\n",
    "            #print(\"pau found\")\n",
    "            src = os.path.join(subjects_dirs[1:][i], fname)\n",
    "            dst= os.path.join(fear_dir, fname)\n",
    "            shutil.copyfile(src, dst)\n",
    "        elif (fname[0:3]=='gio'):\n",
    "            #print(\"gio found\")\n",
    "            src = os.path.join(subjects_dirs[1:][i], fname)\n",
    "            dst= os.path.join(happiness_dir, fname)\n",
    "            shutil.copyfile(src, dst)\n",
    "        elif (fname[0:3]=='neu'):\n",
    "            #print(\"neu found\")\n",
    "            src = os.path.join(subjects_dirs[1:][i], fname)\n",
    "            dst= os.path.join(neutral_dir, fname)\n",
    "            shutil.copyfile(src, dst)\n",
    "        elif (fname[0:3]=='tri'):\n",
    "            #print(\"tri found\")\n",
    "            src = os.path.join(subjects_dirs[1:][i], fname)\n",
    "            dst= os.path.join(sadness_dir, fname)\n",
    "            shutil.copyfile(src, dst)"
   ]
  },
  {
   "cell_type": "code",
   "execution_count": null,
   "metadata": {},
   "outputs": [],
   "source": []
  }
 ],
 "metadata": {
  "kernelspec": {
   "display_name": "Python 3",
   "language": "python",
   "name": "python3"
  },
  "language_info": {
   "codemirror_mode": {
    "name": "ipython",
    "version": 3
   },
   "file_extension": ".py",
   "mimetype": "text/x-python",
   "name": "python",
   "nbconvert_exporter": "python",
   "pygments_lexer": "ipython3",
   "version": "3.7.7"
  }
 },
 "nbformat": 4,
 "nbformat_minor": 4
}
